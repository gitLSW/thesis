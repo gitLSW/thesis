{
 "cells": [
  {
   "cell_type": "markdown",
   "id": "7aa27dfc",
   "metadata": {},
   "source": [
    "## Imports and Definitions ##"
   ]
  },
  {
   "cell_type": "code",
   "execution_count": null,
   "id": "67ccfd10",
   "metadata": {},
   "outputs": [],
   "source": [
    "import pandas as pd\n",
    "from sklearn.model_selection import train_test_split\n",
    "from sklearn.preprocessing import LabelEncoder\n",
    "import xgboost as xgb\n",
    "from sklearn.metrics import accuracy_score, f1_score, precision_score, recall_score, confusion_matrix, classification_report\n",
    "import numpy as np\n",
    "import matplotlib.pyplot as plt\n",
    "from collections import Counter\n",
    "import pickle\n",
    "\n",
    "class CustomLabelEncoder:\n",
    "    def __init__(self):\n",
    "        self.encoder = LabelEncoder()\n",
    "        self.classes_ = None\n",
    "\n",
    "    def fit(self, y):\n",
    "        self.encoder.fit(y)\n",
    "        self.classes_ = self.encoder.classes_\n",
    "        return self\n",
    "\n",
    "    def transform(self, y):\n",
    "        new_labels = set(y) - set(self.encoder.classes_)\n",
    "        if new_labels:\n",
    "            for label in new_labels:\n",
    "                self.classes_ = np.append(self.classes_, label)\n",
    "            self.encoder.classes_ = self.classes_\n",
    "        return self.encoder.transform(y)\n",
    "\n",
    "    def fit_transform(self, y):\n",
    "        return self.fit(y).transform(y)\n",
    "\n",
    "    def inverse_transform(self, y):\n",
    "        return self.encoder.inverse_transform(y)\n",
    "\n",
    "classifier_type = 'product'\n",
    "# Note: Use a dataset with results from BERT (prediction and score)\n",
    "dataset_path = f'/scratch/data_processed_{classifier_type}_with_predictions.csv' \n",
    "seed = 3"
   ]
  },
  {
   "cell_type": "markdown",
   "id": "09525e68",
   "metadata": {},
   "source": [
    "## Load the Dataset, Encode Variables and Split the Data ##"
   ]
  },
  {
   "cell_type": "code",
   "execution_count": null,
   "id": "63da05d0",
   "metadata": {},
   "outputs": [],
   "source": [
    "df = pd.read_csv(dataset_path)\n",
    "df = df.dropna(subset=[classifier_type])\n",
    "df = df.rename(columns={classifier_type: 'labels'})\n",
    "\n",
    "# Filter out classes with counts less than 3\n",
    "label_counts = df['labels'].value_counts()\n",
    "classes_to_keep = label_counts[label_counts > 2].index.tolist()\n",
    "df = df[df['labels'].isin(classes_to_keep)]\n",
    "\n",
    "# Convert textual labels to unique integers\n",
    "unique_labels = df['labels'].unique()\n",
    "label_to_id = {label: idx for idx, label in enumerate(unique_labels)}\n",
    "id_to_label = {idx: label for label, idx in label_to_id.items()}\n",
    "df['labels'] = df['labels'].map(label_to_id)\n",
    "\n",
    "train_df, remaining_df = train_test_split(df, test_size=0.2, stratify=df['labels'], random_state=seed)\n",
    "test_df, validation_df = train_test_split(remaining_df, test_size=0.5, stratify=remaining_df['labels'], random_state=seed)\n",
    "\n",
    "X_train = train_df[['category', 'subcategory', 'prediction', 'score']].copy()\n",
    "y_train = train_df['labels'].copy()\n",
    "\n",
    "X_test = test_df[['category', 'subcategory', 'prediction', 'score']].copy()\n",
    "y_test = test_df['labels'].copy()\n",
    "\n",
    "category_encoder = CustomLabelEncoder()\n",
    "subcategory_encoder = CustomLabelEncoder()\n",
    "prediction_encoder = CustomLabelEncoder()\n",
    "\n",
    "# Fit label encoders on training data only and transform both training and test data\n",
    "X_train.loc[:, 'category'] = category_encoder.fit_transform(X_train['category'])\n",
    "X_test.loc[:, 'category'] = category_encoder.transform(X_test['category'])\n",
    "\n",
    "X_train.loc[:, 'subcategory'] = subcategory_encoder.fit_transform(X_train['subcategory'])\n",
    "X_test.loc[:, 'subcategory'] = subcategory_encoder.transform(X_test['subcategory'])\n",
    "\n",
    "X_train.loc[:, 'prediction'] = prediction_encoder.fit_transform(X_train['prediction'])\n",
    "X_test.loc[:, 'prediction'] = prediction_encoder.transform(X_test['prediction'])"
   ]
  },
  {
   "cell_type": "markdown",
   "id": "e4d8bb47",
   "metadata": {},
   "source": [
    "## Train the XGBoost Classifier ##"
   ]
  },
  {
   "cell_type": "code",
   "execution_count": null,
   "id": "5e589b16",
   "metadata": {},
   "outputs": [],
   "source": [
    "model = xgb.XGBClassifier(use_label_encoder=False, eval_metric='mlogloss', random_state=seed)\n",
    "model.fit(X_train, y_train)"
   ]
  },
  {
   "cell_type": "markdown",
   "id": "51a68fb4",
   "metadata": {},
   "source": [
    "## Load Classifier ##"
   ]
  },
  {
   "cell_type": "code",
   "execution_count": null,
   "id": "1be34374",
   "metadata": {},
   "outputs": [],
   "source": [
    "with open('/scratch/xgboost.pkl', 'rb') as f:\n",
    "    model = pickle.load(f)"
   ]
  },
  {
   "cell_type": "markdown",
   "id": "9b878d68",
   "metadata": {},
   "source": [
    "## Create Confusion Matrix ##"
   ]
  },
  {
   "cell_type": "code",
   "execution_count": null,
   "id": "6e47225c",
   "metadata": {
    "scrolled": true
   },
   "outputs": [],
   "source": [
    "predictions = model.predict(X_test)\n",
    "\n",
    "cm = confusion_matrix(y_test, predictions)\n",
    "cm_normalized = cm.astype('float') / cm.sum(axis=1)[:, np.newaxis]\n",
    "\n",
    "class_labels = unique_labels\n",
    "\n",
    "fig, ax = plt.subplots(figsize=(10, 10))\n",
    "cax = ax.matshow(cm_normalized, cmap=plt.cm.Blues)\n",
    "\n",
    "cbar = fig.colorbar(cax, ax=ax, shrink=0.8)\n",
    "\n",
    "ax.set_xticks(np.arange(len(class_labels)))\n",
    "ax.set_yticks(np.arange(len(class_labels)))\n",
    "ax.set_xticklabels(class_labels, rotation=90)\n",
    "ax.set_yticklabels(class_labels)\n",
    "\n",
    "plt.xlabel('Predicted Class')\n",
    "plt.ylabel('True Class')\n",
    "\n",
    "ax.xaxis.set_tick_params(labeltop=False, labelbottom=True)\n",
    "ax.tick_params(top=False, right=False)\n",
    "\n",
    "for (i, j), val in np.ndenumerate(cm):\n",
    "    text_color = 'white' if cm_normalized[i, j] > 0.65 else 'black'\n",
    "    ax.text(j, i, f'{cm_normalized[i, j]:.2f}\\n{val}', ha='center', va='center', color=text_color)\n",
    "\n",
    "plt.show()"
   ]
  },
  {
   "cell_type": "code",
   "execution_count": null,
   "id": "59434b80",
   "metadata": {},
   "outputs": [],
   "source": [
    "'''unique_labels = ['Sonstiges', 'SAP Business Warehouse', 'GBI',\n",
    "       'IDES', 'Entwicklungssystem', 'HANA', 'ERPsim', 'TS410',\n",
    "       'Business by Design', 'UCC Portal', 'Lumira', 'SAP4School',\n",
    "       'GBS', 'Celonis']\n",
    "\n",
    "unique_labels = ['SAP Business Warehouse', 'Global Bike',\n",
    "       'Entwicklungssystem', 'HANA', 'ERPsim', 'TS410',\n",
    "       'Business by Design', 'UCC Portal', 'SAP4School']'''"
   ]
  },
  {
   "cell_type": "markdown",
   "id": "de8ad079",
   "metadata": {},
   "source": [
    "## Print Classification Report ###"
   ]
  },
  {
   "cell_type": "code",
   "execution_count": null,
   "id": "def69ffc",
   "metadata": {},
   "outputs": [],
   "source": [
    "y_test_original = np.vectorize(id_to_label.get)(y_test)\n",
    "predictions_original = np.vectorize(id_to_label.get)(predictions)\n",
    "\n",
    "print(classification_report(y_test_original, predictions_original))"
   ]
  },
  {
   "cell_type": "code",
   "execution_count": null,
   "id": "304d46e5",
   "metadata": {},
   "outputs": [],
   "source": []
  }
 ],
 "metadata": {
  "kernelspec": {
   "display_name": "Python [conda env:experiments2]",
   "language": "python",
   "name": "conda-env-experiments2-py"
  },
  "language_info": {
   "codemirror_mode": {
    "name": "ipython",
    "version": 3
   },
   "file_extension": ".py",
   "mimetype": "text/x-python",
   "name": "python",
   "nbconvert_exporter": "python",
   "pygments_lexer": "ipython3",
   "version": "3.7.15"
  }
 },
 "nbformat": 4,
 "nbformat_minor": 5
}
